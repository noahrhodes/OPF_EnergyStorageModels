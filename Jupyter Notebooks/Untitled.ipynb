{
 "cells": [
  {
   "cell_type": "code",
   "execution_count": null,
   "metadata": {},
   "outputs": [],
   "source": [
    "#--------------------\n",
    "using PowerModels\n",
    "using Ipopt\n",
    "using JuMP\n",
    "\n",
    "path = \"../ModelData/\"\n",
    "key = \"case_ieee123_storage_\"\n",
    "file_ext = \".m\"\n",
    "\n",
    "\n",
    "# Instancate a Solver\n",
    "#--------------------\n",
    "\n",
    "nlp_solver = IpoptSolver(print_level=0)\n",
    "# note: print_level changes the amount of solver information printed to the terminal\n",
    "\n",
    "\n",
    "# Load System Data\n",
    "# ----------------\n",
    "\n",
    "\n",
    "periods = 0\n",
    "for (root, dirs, files) in walkdir(path)\n",
    "    for file in files\n",
    "        if occursin(key, file)\n",
    "            println(file)\n",
    "            global periods=periods+1\n",
    "        end\n",
    "    end\n",
    "end\n",
    "\n",
    "#mp_data=[]\n",
    "\n",
    "for i=1:55\n",
    "    if i == 1\n",
    "        data_1 = PowerModels.parse_file(string(path,key,i,file_ext))\n",
    "\n",
    "        global mp_data = Dict{String,Any}(\n",
    "            \"name\" => \"$(data_1[\"name\"])\",\n",
    "            \"multinetwork\" => true,\n",
    "            \"per_unit\" => data_1[\"per_unit\"],\n",
    "            \"baseMVA\" => data_1[\"baseMVA\"],\n",
    "            \"nw\" => Dict{String,Any}()\n",
    "        )\n",
    "\n",
    "        delete!(data_1, \"multinetwork\")\n",
    "        delete!(data_1, \"per_unit\")\n",
    "        delete!(data_1, \"baseMVA\")\n",
    "        global mp_data[\"nw\"][\"$(i)\"] = data_1\n",
    "\n",
    "    else\n",
    "        data_2 = PowerModels.parse_file(string(path,key,i,file_ext))\n",
    "        delete!(data_2, \"multinetwork\")\n",
    "        delete!(data_2, \"per_unit\")\n",
    "        delete!(data_2, \"baseMVA\")\n",
    "        global mp_data[\"nw\"][\"$(i)\"] = data_2\n",
    "    end\n",
    "end\n",
    "\n",
    "PowerModels.standardize_cost_terms(mp_data, order=2)\n",
    "\n",
    "\n",
    "\n"
   ]
  },
  {
   "cell_type": "code",
   "execution_count": 2,
   "metadata": {},
   "outputs": [],
   "source": [
    "\n",
    "\n",
    "horizon = 50\n",
    "\n",
    "#for k=1:length(collect(keys(base[:nw])))#-horizon\n",
    "for k=1:length(keys(mp_data[\"nw\"]))-horizon\n",
    "    global horizon_data = Dict{String,Any}(\n",
    "            \"name\" => \"Period $(k)\",\n",
    "            \"multinetwork\" => true,\n",
    "            \"per_unit\" => mp_data[\"per_unit\"],\n",
    "            \"baseMVA\" => mp_data[\"baseMVA\"],\n",
    "            \"nw\" =>  Dict{String,Any}()\n",
    "        )\n",
    "    \n",
    "    for w=k:k+horizon -1\n",
    "        horizon_data[\"nw\"][string(w)] = mp_data[\"nw\"][string(w)]\n",
    "    end\n",
    "    \n",
    "    global ref = PowerModels.build_ref(horizon_data)\n",
    "    \n",
    "    #planning_data = AC_OPF_MP_Storage(ref, k, horizon)\n",
    "    #\n",
    "    #horizon_data[:nw][k+1][]\n",
    "    \n",
    "    #println(planning_data[:nw][2][:gen][1][\"ramp_agc\"])\n",
    "end"
   ]
  },
  {
   "cell_type": "code",
   "execution_count": 18,
   "metadata": {},
   "outputs": [
    {
     "name": "stdout",
     "output_type": "stream",
     "text": [
      "0.0\n"
     ]
    }
   ],
   "source": [
    "println(horizon_data[\"nw\"][\"7\"][\"storage\"][\"1\"][\"energy\"])"
   ]
  }
 ],
 "metadata": {
  "kernelspec": {
   "display_name": "Julia 1.0.3",
   "language": "julia",
   "name": "julia-1.0"
  },
  "language_info": {
   "file_extension": ".jl",
   "mimetype": "application/julia",
   "name": "julia",
   "version": "1.0.3"
  }
 },
 "nbformat": 4,
 "nbformat_minor": 2
}
