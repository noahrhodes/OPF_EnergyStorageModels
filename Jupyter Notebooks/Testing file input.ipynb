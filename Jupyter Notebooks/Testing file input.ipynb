{
 "cells": [
  {
   "cell_type": "code",
   "execution_count": 24,
   "metadata": {},
   "outputs": [
    {
     "ename": "UndefVarError",
     "evalue": "UndefVarError: readcsv not defined",
     "output_type": "error",
     "traceback": [
      "UndefVarError: readcsv not defined",
      "",
      "Stacktrace:",
      " [1] top-level scope at In[24]:3"
     ]
    }
   ],
   "source": [
    "using DelimitedFiles\n",
    "readdlm(\"./ModelData/load_data.csv\")\n",
    "\n",
    "readcsv(\"./ModelData/load_data.csv\")\n"
   ]
  },
  {
   "cell_type": "code",
   "execution_count": 20,
   "metadata": {},
   "outputs": [
    {
     "data": {
      "text/html": [
       "<table class=\"data-frame\"><thead><tr><th></th><th>Period 1</th><th>Period 2</th><th>Period 3</th></tr><tr><th></th><th>Int64⍰</th><th>Int64⍰</th><th>Int64⍰</th></tr></thead><tbody><p>5 rows × 3 columns</p><tr><th>1</th><td>1</td><td>5</td><td>4</td></tr><tr><th>2</th><td>2</td><td>1</td><td>5</td></tr><tr><th>3</th><td>3</td><td>2</td><td>1</td></tr><tr><th>4</th><td>4</td><td>3</td><td>2</td></tr><tr><th>5</th><td>5</td><td>4</td><td>3</td></tr></tbody></table>"
      ],
      "text/latex": [
       "\\begin{tabular}{r|ccc}\n",
       "\t& Period 1 & Period 2 & Period 3\\\\\n",
       "\t\\hline\n",
       "\t& Int64⍰ & Int64⍰ & Int64⍰\\\\\n",
       "\t\\hline\n",
       "\t1 & 1 & 5 & 4 \\\\\n",
       "\t2 & 2 & 1 & 5 \\\\\n",
       "\t3 & 3 & 2 & 1 \\\\\n",
       "\t4 & 4 & 3 & 2 \\\\\n",
       "\t5 & 5 & 4 & 3 \\\\\n",
       "\\end{tabular}\n"
      ],
      "text/plain": [
       "5×3 DataFrame\n",
       "│ Row │ Period 1 │ Period 2 │ Period 3 │\n",
       "│     │ \u001b[90mInt64⍰\u001b[39m   │ \u001b[90mInt64⍰\u001b[39m   │ \u001b[90mInt64⍰\u001b[39m   │\n",
       "├─────┼──────────┼──────────┼──────────┤\n",
       "│ 1   │ 1        │ 5        │ 4        │\n",
       "│ 2   │ 2        │ 1        │ 5        │\n",
       "│ 3   │ 3        │ 2        │ 1        │\n",
       "│ 4   │ 4        │ 3        │ 2        │\n",
       "│ 5   │ 5        │ 4        │ 3        │"
      ]
     },
     "execution_count": 20,
     "metadata": {},
     "output_type": "execute_result"
    }
   ],
   "source": [
    "using DataFrames, CSV\n",
    "table = CSV.read(\"./ModelData/load_data.csv\")\n"
   ]
  },
  {
   "cell_type": "code",
   "execution_count": 23,
   "metadata": {},
   "outputs": [
    {
     "data": {
      "text/plain": [
       "3-element Array{Symbol,1}:\n",
       " Symbol(\"Period 1\")\n",
       " Symbol(\"Period 2\")\n",
       " Symbol(\"Period 3\")"
      ]
     },
     "execution_count": 23,
     "metadata": {},
     "output_type": "execute_result"
    }
   ],
   "source": [
    "names(data_frame)"
   ]
  },
  {
   "cell_type": "code",
   "execution_count": 25,
   "metadata": {},
   "outputs": [
    {
     "name": "stdout",
     "output_type": "stream",
     "text": [
      "\u001b[35m[warn | PowerModels]: this code only supports angmin values in -90 deg. to 90 deg., tightening the value on branch 4 from -360.0 to -60.0 deg.\u001b[39m\n",
      "\u001b[35m[warn | PowerModels]: this code only supports angmax values in -90 deg. to 90 deg., tightening the value on branch 4 from 360.0 to 60.0 deg.\u001b[39m\n",
      "\u001b[35m[warn | PowerModels]: this code only supports angmin values in -90 deg. to 90 deg., tightening the value on branch 1 from -360.0 to -60.0 deg.\u001b[39m\n",
      "\u001b[35m[warn | PowerModels]: this code only supports angmax values in -90 deg. to 90 deg., tightening the value on branch 1 from 360.0 to 60.0 deg.\u001b[39m\n",
      "\u001b[35m[warn | PowerModels]: this code only supports angmin values in -90 deg. to 90 deg., tightening the value on branch 5 from -360.0 to -60.0 deg.\u001b[39m\n",
      "\u001b[35m[warn | PowerModels]: this code only supports angmax values in -90 deg. to 90 deg., tightening the value on branch 5 from 360.0 to 60.0 deg.\u001b[39m\n",
      "\u001b[35m[warn | PowerModels]: this code only supports angmin values in -90 deg. to 90 deg., tightening the value on branch 2 from -360.0 to -60.0 deg.\u001b[39m\n",
      "\u001b[35m[warn | PowerModels]: this code only supports angmax values in -90 deg. to 90 deg., tightening the value on branch 2 from 360.0 to 60.0 deg.\u001b[39m\n",
      "\u001b[35m[warn | PowerModels]: this code only supports angmin values in -90 deg. to 90 deg., tightening the value on branch 6 from -360.0 to -60.0 deg.\u001b[39m\n",
      "\u001b[35m[warn | PowerModels]: this code only supports angmax values in -90 deg. to 90 deg., tightening the value on branch 6 from 360.0 to 60.0 deg.\u001b[39m\n",
      "\u001b[35m[warn | PowerModels]: this code only supports angmin values in -90 deg. to 90 deg., tightening the value on branch 3 from -360.0 to -60.0 deg.\u001b[39m\n",
      "\u001b[35m[warn | PowerModels]: this code only supports angmax values in -90 deg. to 90 deg., tightening the value on branch 3 from 360.0 to 60.0 deg.\u001b[39m\n",
      "\u001b[35m[warn | PowerModels]: this code only supports positive rate_a values, changing the value on branch 4 to 11148.1255\u001b[39m\n",
      "\u001b[35m[warn | PowerModels]: this code only supports positive rate_a values, changing the value on branch 5 to 4053.8638\u001b[39m\n",
      "\u001b[35m[warn | PowerModels]: this code only supports positive rate_a values, changing the value on branch 2 to 3960.5183\u001b[39m\n",
      "\u001b[35m[warn | PowerModels]: this code only supports positive rate_a values, changing the value on branch 3 to 18812.4618\u001b[39m\n"
     ]
    },
    {
     "data": {
      "text/plain": [
       "Dict{String,Any} with 12 entries:\n",
       "  \"bus\"            => Dict{String,Any}(\"4\"=>Dict{String,Any}(\"zone\"=>1,\"bus_i\"=…\n",
       "  \"source_type\"    => \"matpower\"\n",
       "  \"name\"           => \"case5\"\n",
       "  \"dcline\"         => Dict{String,Any}()\n",
       "  \"source_version\" => v\"2.0.0\"\n",
       "  \"gen\"            => Dict{String,Any}(\"4\"=>Dict{String,Any}(\"ncost\"=>2,\"qc1max…\n",
       "  \"branch\"         => Dict{String,Any}(\"4\"=>Dict{String,Any}(\"br_r\"=>0.00108,\"r…\n",
       "  \"storage\"        => Dict{String,Any}()\n",
       "  \"baseMVA\"        => 100\n",
       "  \"per_unit\"       => true\n",
       "  \"shunt\"          => Dict{String,Any}()\n",
       "  \"load\"           => Dict{String,Any}(\"1\"=>Dict{String,Any}(\"load_bus\"=>2,\"sta…"
      ]
     },
     "execution_count": 25,
     "metadata": {},
     "output_type": "execute_result"
    }
   ],
   "source": [
    "#--------------------\n",
    "using PowerModels\n",
    "using Ipopt\n",
    "using JuMP\n",
    "using DelimitedFiles\n",
    "\n",
    "#function build_mn_data(base_data; replicates::Int=2)\n",
    "#    mp_data = PowerModels.parse_file(base_data)\n",
    "#    return PowerModels.replicate(mp_data, replicates)\n",
    "#end\n",
    "\n",
    "# Instancate a Solver\n",
    "#--------------------\n",
    "\n",
    "nlp_solver = IpoptSolver(print_level=0)\n",
    "# note: print_level changes the amount of solver information printed to the terminal\n",
    "\n",
    "\n",
    "# Load System Data\n",
    "# ----------------\n",
    "\n",
    "if VERSION < v\"0.7.0\"\n",
    "    powermodels_path = Pkg.dir(\"PowerModels\")\n",
    "else\n",
    "    powermodels_path = joinpath(dirname(pathof(PowerModels)), \"..\")\n",
    "end\n",
    "\n",
    "file_name = \"./ModelData/case5.m\"\n",
    "file_ext = \".m\"\n",
    "energy_demand_file = \"./ModelData/load_data.csv\"\n",
    "#periods = 1\n",
    "# note: change this string to modify the network data that will be loaded\n",
    "\n",
    "# load network data\n",
    "base_data = PowerModels.parse_file(file_name)\n",
    "\n",
    "# load energy demand file\n",
    "\n",
    "\n",
    "# clean load data\n",
    "#for i in keys(base_data[\"bus\"])\n",
    "#    base_data[\"load\"][i] = base_data[\"load\"][\"1\"]\n",
    "#end\n",
    "\n",
    "# create multi-network replicates\n",
    "#mp_data = PowerModels.replicate(base_data, periods)\n",
    "\n",
    "#data\n",
    "#data = build_mn_data(string(file_name,\"_\",1,file_ext),replicates = periods)\n",
    "\n",
    "\n",
    "\n",
    "# Add zeros to turn linear objective functions into quadratic ones\n",
    "# so that additional parameter checks are not required\n",
    "#PowerModels.standardize_cost_terms(mp_data, order=2)\n",
    "\n",
    "# use build_ref to filter out inactive components\n",
    "#ref = PowerModels.build_ref(data)[:nw][0]\n",
    "\n",
    "#ref = PowerModels.build_ref(mp_data)\n",
    "\n",
    "# note: ref contains all the relevant system parameters needed to build the OPF model\n",
    "# When we introduce constraints and variable bounds below, we use the parameters in ref.\n"
   ]
  },
  {
   "cell_type": "code",
   "execution_count": 26,
   "metadata": {},
   "outputs": [
    {
     "data": {
      "text/plain": [
       "Dict{String,Any} with 3 entries:\n",
       "  \"1\" => Dict{String,Any}(\"load_bus\"=>2,\"status\"=>1,\"qd\"=>0.9861,\"pd\"=>3.0,\"ind…\n",
       "  \"2\" => Dict{String,Any}(\"load_bus\"=>3,\"status\"=>1,\"qd\"=>0.9861,\"pd\"=>3.0,\"ind…\n",
       "  \"3\" => Dict{String,Any}(\"load_bus\"=>4,\"status\"=>1,\"qd\"=>1.3147,\"pd\"=>4.0,\"ind…"
      ]
     },
     "execution_count": 26,
     "metadata": {},
     "output_type": "execute_result"
    }
   ],
   "source": [
    "base_data[\"load\"]"
   ]
  }
 ],
 "metadata": {
  "kernelspec": {
   "display_name": "Julia 1.0.3",
   "language": "julia",
   "name": "julia-1.0"
  },
  "language_info": {
   "file_extension": ".jl",
   "mimetype": "application/julia",
   "name": "julia",
   "version": "1.0.3"
  }
 },
 "nbformat": 4,
 "nbformat_minor": 2
}
