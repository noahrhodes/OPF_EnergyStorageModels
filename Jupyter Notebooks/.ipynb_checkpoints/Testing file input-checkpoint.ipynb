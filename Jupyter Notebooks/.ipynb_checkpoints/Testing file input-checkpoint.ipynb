{
 "cells": [
  {
   "cell_type": "code",
   "execution_count": 5,
   "metadata": {},
   "outputs": [
    {
     "data": {
      "text/plain": [
       "5×2 Array{Float64,2}:\n",
       " 1.0   2.0\n",
       " 2.0   4.0\n",
       " 3.0   6.0\n",
       " 4.0   8.0\n",
       " 5.0  10.0"
      ]
     },
     "execution_count": 5,
     "metadata": {},
     "output_type": "execute_result"
    }
   ],
   "source": [
    "using DelimitedFiles\n",
    "\n",
    "\n",
    "\n"
   ]
  },
  {
   "cell_type": "code",
   "execution_count": null,
   "metadata": {},
   "outputs": [],
   "source": [
    "#--------------------\n",
    "using PowerModels\n",
    "using Ipopt\n",
    "using JuMP\n",
    "using DelimitedFiles\n",
    "\n",
    "#function build_mn_data(base_data; replicates::Int=2)\n",
    "#    mp_data = PowerModels.parse_file(base_data)\n",
    "#    return PowerModels.replicate(mp_data, replicates)\n",
    "#end\n",
    "\n",
    "# Instancate a Solver\n",
    "#--------------------\n",
    "\n",
    "nlp_solver = IpoptSolver(print_level=0)\n",
    "# note: print_level changes the amount of solver information printed to the terminal\n",
    "\n",
    "\n",
    "# Load System Data\n",
    "# ----------------\n",
    "\n",
    "if VERSION < v\"0.7.0\"\n",
    "    powermodels_path = Pkg.dir(\"PowerModels\")\n",
    "else\n",
    "    powermodels_path = joinpath(dirname(pathof(PowerModels)), \"..\")\n",
    "end\n",
    "\n",
    "file_name = \"./ModelData/case5.m\"\n",
    "file_ext = \".m\"\n",
    "energy_demand_file = \"./ModelData/load_data.csv\"\n",
    "#periods = 1\n",
    "# note: change this string to modify the network data that will be loaded\n",
    "\n",
    "# load network data\n",
    "base_data = PowerModels.parse_file(file_name)\n",
    "\n",
    "# clean load data\n",
    "for i in keys(base_data[\"bus\"])\n",
    "    base_data[\"load\"][i] = base_data[\"load\"][\"1\"]\n",
    "end\n",
    "\n",
    "# create multi-network replicates\n",
    "mp_data = PowerModels.replicate(base_data, periods)\n",
    "\n",
    "#data\n",
    "#data = build_mn_data(string(file_name,\"_\",1,file_ext),replicates = periods)\n",
    "\n",
    "\n",
    "\n",
    "# Add zeros to turn linear objective functions into quadratic ones\n",
    "# so that additional parameter checks are not required\n",
    "PowerModels.standardize_cost_terms(mp_data, order=2)\n",
    "\n",
    "# use build_ref to filter out inactive components\n",
    "#ref = PowerModels.build_ref(data)[:nw][0]\n",
    "ref = PowerModels.build_ref(mp_data)\n",
    "# note: ref contains all the relevant system parameters needed to build the OPF model\n",
    "# When we introduce constraints and variable bounds below, we use the parameters in ref.\n"
   ]
  }
 ],
 "metadata": {
  "kernelspec": {
   "display_name": "Julia 1.0.3",
   "language": "julia",
   "name": "julia-1.0"
  },
  "language_info": {
   "file_extension": ".jl",
   "mimetype": "application/julia",
   "name": "julia",
   "version": "1.0.3"
  }
 },
 "nbformat": 4,
 "nbformat_minor": 2
}
