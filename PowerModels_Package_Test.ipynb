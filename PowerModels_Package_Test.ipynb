{
 "cells": [
  {
   "cell_type": "code",
   "execution_count": 1,
   "metadata": {},
   "outputs": [
    {
     "name": "stderr",
     "output_type": "stream",
     "text": [
      "┌ Info: Precompiling PowerModels [c36e90e8-916a-50a6-bd94-075b64ef4655]\n",
      "└ @ Base loading.jl:1192\n"
     ]
    },
    {
     "ename": "LoadError",
     "evalue": "syntax: extra token \"JuMP\" after end of expression",
     "output_type": "error",
     "traceback": [
      "syntax: extra token \"JuMP\" after end of expression",
      ""
     ]
    }
   ],
   "source": [
    "using PowerModels\n",
    "usig JuMP\n",
    "\n"
   ]
  }
 ],
 "metadata": {
  "kernelspec": {
   "display_name": "Julia 1.0.3",
   "language": "julia",
   "name": "julia-1.0"
  },
  "language_info": {
   "file_extension": ".jl",
   "mimetype": "application/julia",
   "name": "julia",
   "version": "1.0.3"
  }
 },
 "nbformat": 4,
 "nbformat_minor": 2
}
