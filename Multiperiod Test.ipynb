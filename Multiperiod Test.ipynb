{
 "cells": [
  {
   "cell_type": "code",
   "execution_count": 13,
   "metadata": {
    "scrolled": false
   },
   "outputs": [
    {
     "name": "stdout",
     "output_type": "stream",
     "text": [
      "\u001b[35m[warn | PowerModels]: this code only supports angmin values in -90 deg. to 90 deg., tightening the value on branch 4 from -360.0 to -60.0 deg.\u001b[39m\n",
      "\u001b[35m[warn | PowerModels]: this code only supports angmax values in -90 deg. to 90 deg., tightening the value on branch 4 from 360.0 to 60.0 deg.\u001b[39m\n",
      "\u001b[35m[warn | PowerModels]: this code only supports angmin values in -90 deg. to 90 deg., tightening the value on branch 1 from -360.0 to -60.0 deg.\u001b[39m\n",
      "\u001b[35m[warn | PowerModels]: this code only supports angmax values in -90 deg. to 90 deg., tightening the value on branch 1 from 360.0 to 60.0 deg.\u001b[39m\n",
      "\u001b[35m[warn | PowerModels]: this code only supports angmin values in -90 deg. to 90 deg., tightening the value on branch 5 from -360.0 to -60.0 deg.\u001b[39m\n",
      "\u001b[35m[warn | PowerModels]: this code only supports angmax values in -90 deg. to 90 deg., tightening the value on branch 5 from 360.0 to 60.0 deg.\u001b[39m\n",
      "\u001b[35m[warn | PowerModels]: this code only supports angmin values in -90 deg. to 90 deg., tightening the value on branch 2 from -360.0 to -60.0 deg.\u001b[39m\n",
      "\u001b[35m[warn | PowerModels]: this code only supports angmax values in -90 deg. to 90 deg., tightening the value on branch 2 from 360.0 to 60.0 deg.\u001b[39m\n",
      "\u001b[35m[warn | PowerModels]: this code only supports angmin values in -90 deg. to 90 deg., tightening the value on branch 6 from -360.0 to -60.0 deg.\u001b[39m\n",
      "\u001b[35m[warn | PowerModels]: this code only supports angmax values in -90 deg. to 90 deg., tightening the value on branch 6 from 360.0 to 60.0 deg.\u001b[39m\n",
      "\u001b[35m[warn | PowerModels]: this code only supports angmin values in -90 deg. to 90 deg., tightening the value on branch 3 from -360.0 to -60.0 deg.\u001b[39m\n",
      "\u001b[35m[warn | PowerModels]: this code only supports angmax values in -90 deg. to 90 deg., tightening the value on branch 3 from 360.0 to 60.0 deg.\u001b[39m\n",
      "\u001b[35m[warn | PowerModels]: this code only supports positive rate_a values, changing the value on branch 4 to 11148.1255\u001b[39m\n",
      "\u001b[35m[warn | PowerModels]: this code only supports positive rate_a values, changing the value on branch 5 to 4053.8638\u001b[39m\n",
      "\u001b[35m[warn | PowerModels]: this code only supports positive rate_a values, changing the value on branch 2 to 3960.5183\u001b[39m\n",
      "\u001b[35m[warn | PowerModels]: this code only supports positive rate_a values, changing the value on branch 3 to 18812.4618\u001b[39m\n",
      "\u001b[35m[warn | PowerModels]: Updated generator 4 cost function with order 2 to a function of order 3: [0.0, 4000.0, 0.0]\u001b[39m\n",
      "\u001b[35m[warn | PowerModels]: Updated generator 1 cost function with order 2 to a function of order 3: [0.0, 1400.0, 0.0]\u001b[39m\n",
      "\u001b[35m[warn | PowerModels]: Updated generator 5 cost function with order 2 to a function of order 3: [0.0, 1000.0, 0.0]\u001b[39m\n",
      "\u001b[35m[warn | PowerModels]: Updated generator 2 cost function with order 2 to a function of order 3: [0.0, 1500.0, 0.0]\u001b[39m\n",
      "\u001b[35m[warn | PowerModels]: Updated generator 3 cost function with order 2 to a function of order 3: [0.0, 3000.0, 0.0]\u001b[39m\n",
      "\u001b[35m[warn | PowerModels]: Updated generator 4 cost function with order 2 to a function of order 3: [0.0, 4000.0, 0.0]\u001b[39m\n",
      "\u001b[35m[warn | PowerModels]: Updated generator 1 cost function with order 2 to a function of order 3: [0.0, 1400.0, 0.0]\u001b[39m\n",
      "\u001b[35m[warn | PowerModels]: Updated generator 5 cost function with order 2 to a function of order 3: [0.0, 1000.0, 0.0]\u001b[39m\n",
      "\u001b[35m[warn | PowerModels]: Updated generator 2 cost function with order 2 to a function of order 3: [0.0, 1500.0, 0.0]\u001b[39m\n",
      "\u001b[35m[warn | PowerModels]: Updated generator 3 cost function with order 2 to a function of order 3: [0.0, 3000.0, 0.0]\u001b[39m\n"
     ]
    },
    {
     "data": {
      "text/latex": [
       "$$ 4000 pg_{2,4} + 1500 pg_{2,2} + 3000 pg_{2,3} + 1000 pg_{2,5} + 1400 pg_{2,1} + 4000 pg_{1,4} + 1500 pg_{1,2} + 3000 pg_{1,3} + 1000 pg_{1,5} + 1400 pg_{1,1} $$"
      ],
      "text/plain": [
       "4000 pg[2,4] + 1500 pg[2,2] + 3000 pg[2,3] + 1000 pg[2,5] + 1400 pg[2,1] + 4000 pg[1,4] + 1500 pg[1,2] + 3000 pg[1,3] + 1000 pg[1,5] + 1400 pg[1,1]"
      ]
     },
     "execution_count": 13,
     "metadata": {},
     "output_type": "execute_result"
    }
   ],
   "source": [
    "#--------------------\n",
    "using PowerModels\n",
    "using Ipopt\n",
    "using JuMP\n",
    "\n",
    "#function build_mn_data(base_data; replicates::Int=2)\n",
    "#    mp_data = PowerModels.parse_file(base_data)\n",
    "#    return PowerModels.replicate(mp_data, replicates)\n",
    "#end\n",
    "\n",
    "# Instancate a Solver\n",
    "#--------------------\n",
    "\n",
    "nlp_solver = IpoptSolver(print_level=0)\n",
    "# note: print_level changes the amount of solver information printed to the terminal\n",
    "\n",
    "\n",
    "# Load System Data\n",
    "# ----------------\n",
    "\n",
    "if VERSION < v\"0.7.0\"\n",
    "    powermodels_path = Pkg.dir(\"PowerModels\")\n",
    "else\n",
    "    powermodels_path = joinpath(dirname(pathof(PowerModels)), \"..\")\n",
    "end\n",
    "\n",
    "file_name = \"ModelData/case5\"\n",
    "file_ext = \".m\"\n",
    "periods = 2\n",
    "# note: change this string to modify the network data that will be loaded\n",
    "\n",
    "# load network data\n",
    "base_data = PowerModels.parse_file(string(file_name,\"_\",1,file_ext))\n",
    "\n",
    "# clean load data\n",
    "for i in keys(base_data[\"bus\"])\n",
    "    base_data[\"load\"][i] = base_data[\"load\"][\"1\"]\n",
    "end\n",
    "\n",
    "# create multi-network replicates\n",
    "mp_data = PowerModels.replicate(base_data, periods)\n",
    "\n",
    "#data \n",
    "#data = build_mn_data(string(file_name,\"_\",1,file_ext),replicates = periods)\n",
    "\n",
    "\n",
    "\n",
    "# Add zeros to turn linear objective functions into quadratic ones\n",
    "# so that additional parameter checks are not required\n",
    "PowerModels.standardize_cost_terms(mp_data, order=2)\n",
    "\n",
    "# use build_ref to filter out inactive components\n",
    "#ref = PowerModels.build_ref(data)[:nw][0]\n",
    "ref = PowerModels.build_ref(mp_data)\n",
    "# note: ref contains all the relevant system parameters needed to build the OPF model\n",
    "# When we introduce constraints and variable bounds below, we use the parameters in ref.\n",
    "\n",
    "\n",
    "###############################################################################\n",
    "# 1. Building the Optimal Power Flow Model\n",
    "###############################################################################\n",
    "\n",
    "# Initialize a JuMP Optimization Model\n",
    "#-------------------------------------\n",
    "model = Model(solver = nlp_solver)\n",
    "\n",
    "\n",
    "# Add Optimization and State Variables\n",
    "# ------------------------------------\n",
    "\n",
    "# Add power generation variables for each generator, including bounds\n",
    "@variable(model, ref[:nw][j][:gen][i][\"pmin\"] <= pg[j in keys(ref[:nw]), i in keys(ref[:nw][j][:gen])] <= ref[:nw][j][:gen][i][\"pmax\"])\n",
    "# Add power flow variables for branches\n",
    "@variable(model, -ref[:nw][k][:branch][l][\"rate_a\"] <= p[k in keys(ref[:nw]), (l,i,j) in ref[:nw][k][:arcs]] <= ref[:nw][k][:branch][l][\"rate_a\"])\n",
    "\n",
    "# Add Objective Function\n",
    "# ----------------------\n",
    "\n",
    "# Minimize cost power generation\n",
    "# assumes costs are given as quadratic functions\n",
    "@objective(model, Min,\n",
    "    sum(gen[\"cost\"][1]*pg[j,i]^2 + gen[\"cost\"][2]*pg[j,i] + gen[\"cost\"][3] for j in keys(ref[:nw]), (i,gen) in ref[:nw][j][:gen])\n",
    ")\n"
   ]
  },
  {
   "cell_type": "code",
   "execution_count": 24,
   "metadata": {},
   "outputs": [
    {
     "name": "stdout",
     "output_type": "stream",
     "text": [
      "\u001b[35m[warn | PowerModels]: this code only supports angmin values in -90 deg. to 90 deg., tightening the value on branch 4 from -360.0 to -60.0 deg.\u001b[39m\n",
      "\u001b[35m[warn | PowerModels]: this code only supports angmax values in -90 deg. to 90 deg., tightening the value on branch 4 from 360.0 to 60.0 deg.\u001b[39m\n",
      "\u001b[35m[warn | PowerModels]: this code only supports angmin values in -90 deg. to 90 deg., tightening the value on branch 1 from -360.0 to -60.0 deg.\u001b[39m\n",
      "\u001b[35m[warn | PowerModels]: this code only supports angmax values in -90 deg. to 90 deg., tightening the value on branch 1 from 360.0 to 60.0 deg.\u001b[39m\n",
      "\u001b[35m[warn | PowerModels]: this code only supports angmin values in -90 deg. to 90 deg., tightening the value on branch 5 from -360.0 to -60.0 deg.\u001b[39m\n",
      "\u001b[35m[warn | PowerModels]: this code only supports angmax values in -90 deg. to 90 deg., tightening the value on branch 5 from 360.0 to 60.0 deg.\u001b[39m\n",
      "\u001b[35m[warn | PowerModels]: this code only supports angmin values in -90 deg. to 90 deg., tightening the value on branch 2 from -360.0 to -60.0 deg.\u001b[39m\n",
      "\u001b[35m[warn | PowerModels]: this code only supports angmax values in -90 deg. to 90 deg., tightening the value on branch 2 from 360.0 to 60.0 deg.\u001b[39m\n",
      "\u001b[35m[warn | PowerModels]: this code only supports angmin values in -90 deg. to 90 deg., tightening the value on branch 6 from -360.0 to -60.0 deg.\u001b[39m\n",
      "\u001b[35m[warn | PowerModels]: this code only supports angmax values in -90 deg. to 90 deg., tightening the value on branch 6 from 360.0 to 60.0 deg.\u001b[39m\n",
      "\u001b[35m[warn | PowerModels]: this code only supports angmin values in -90 deg. to 90 deg., tightening the value on branch 3 from -360.0 to -60.0 deg.\u001b[39m\n",
      "\u001b[35m[warn | PowerModels]: this code only supports angmax values in -90 deg. to 90 deg., tightening the value on branch 3 from 360.0 to 60.0 deg.\u001b[39m\n",
      "\u001b[35m[warn | PowerModels]: this code only supports positive rate_a values, changing the value on branch 4 to 11148.1255\u001b[39m\n",
      "\u001b[35m[warn | PowerModels]: this code only supports positive rate_a values, changing the value on branch 5 to 4053.8638\u001b[39m\n",
      "\u001b[35m[warn | PowerModels]: this code only supports positive rate_a values, changing the value on branch 2 to 3960.5183\u001b[39m\n",
      "\u001b[35m[warn | PowerModels]: this code only supports positive rate_a values, changing the value on branch 3 to 18812.4618\u001b[39m\n"
     ]
    },
    {
     "data": {
      "text/plain": [
       "Dict{String,Any} with 12 entries:\n",
       "  \"bus\"            => Dict{String,Any}(\"4\"=>Dict{String,Any}(\"zone\"=>1,\"bus_i\"=…\n",
       "  \"source_type\"    => \"matpower\"\n",
       "  \"name\"           => \"case5\"\n",
       "  \"dcline\"         => Dict{String,Any}()\n",
       "  \"source_version\" => v\"2.0.0\"\n",
       "  \"gen\"            => Dict{String,Any}(\"4\"=>Dict{String,Any}(\"ncost\"=>2,\"qc1max…\n",
       "  \"branch\"         => Dict{String,Any}(\"4\"=>Dict{String,Any}(\"br_r\"=>0.00108,\"r…\n",
       "  \"storage\"        => Dict{String,Any}()\n",
       "  \"baseMVA\"        => 100\n",
       "  \"per_unit\"       => true\n",
       "  \"shunt\"          => Dict{String,Any}()\n",
       "  \"load\"           => Dict{String,Any}(\"1\"=>Dict{String,Any}(\"load_bus\"=>2,\"sta…"
      ]
     },
     "execution_count": 24,
     "metadata": {},
     "output_type": "execute_result"
    }
   ],
   "source": [
    "#data[\"nw\"][string(1)][\"load\"][string(\"5\")] = data[\"nw\"][string(1)][\"load\"][string(\"1\")]\n",
    "#data[\"nw\"][\"1\"][\"load\"]\n",
    "base_data = PowerModels.parse_file(string(file_name,\"_\",1,file_ext))"
   ]
  },
  {
   "cell_type": "code",
   "execution_count": 36,
   "metadata": {},
   "outputs": [
    {
     "name": "stdout",
     "output_type": "stream",
     "text": [
      "4\n",
      "1\n",
      "5\n",
      "2\n",
      "3\n"
     ]
    }
   ],
   "source": [
    "for i in keys(base_data[\"bus\"])\n",
    "    base_data[\"load\"][i] = base_data[\"load\"][\"1\"]\n",
    "    println(i)\n",
    "end"
   ]
  },
  {
   "cell_type": "code",
   "execution_count": 11,
   "metadata": {
    "scrolled": true
   },
   "outputs": [
    {
     "name": "stderr",
     "output_type": "stream",
     "text": [
      "┌ Warning: A variable or constraint named pg is already attached to this model. If creating variables programmatically, use the anonymous variable syntax x = @variable(m, [1:N], ...).\n",
      "└ @ JuMP C:\\Users\\noahx23\\.julia\\packages\\JuMP\\PbnIJ\\src\\JuMP.jl:852\n"
     ]
    },
    {
     "data": {
      "text/latex": [
       "$$ 0 \\leq pg_{j,i} \\leq \\dots \\quad\\forall j \\in \\{2,1\\}, i \\in \\{\\dots\\} $$"
      ],
      "text/plain": [
       "0 <= pg[j,i] <= .. for all j in {2,1}, i in {..}"
      ]
     },
     "execution_count": 11,
     "metadata": {},
     "output_type": "execute_result"
    }
   ],
   "source": [
    "@variable(model, ref[:nw][j][:gen][i][\"pmin\"] <= pg[j in keys(ref[:nw]), i in keys(ref[:nw][j][:gen])] <= ref[:nw][j][:gen][i][\"pmax\"])"
   ]
  },
  {
   "cell_type": "code",
   "execution_count": 6,
   "metadata": {},
   "outputs": [
    {
     "data": {
      "text/plain": [
       "Dict{Int64,Any} with 5 entries:\n",
       "  4 => Dict{String,Any}(\"pmin\"=>0.0,\"qc1max\"=>0.0,\"pg\"=>0.0,\"model\"=>2,\"shutdow…\n",
       "  2 => Dict{String,Any}(\"pmin\"=>0.0,\"qc1max\"=>0.0,\"pg\"=>1.7,\"model\"=>2,\"shutdow…\n",
       "  3 => Dict{String,Any}(\"pmin\"=>0.0,\"qc1max\"=>0.0,\"pg\"=>3.2349,\"model\"=>2,\"shut…\n",
       "  5 => Dict{String,Any}(\"pmin\"=>0.0,\"qc1max\"=>0.0,\"pg\"=>4.6651,\"model\"=>2,\"shut…\n",
       "  1 => Dict{String,Any}(\"pmin\"=>0.0,\"qc1max\"=>0.0,\"pg\"=>0.4,\"model\"=>2,\"shutdow…"
      ]
     },
     "execution_count": 6,
     "metadata": {},
     "output_type": "execute_result"
    }
   ],
   "source": [
    "ref[:nw][:1][:gen]"
   ]
  },
  {
   "cell_type": "markdown",
   "metadata": {},
   "source": [
    "\\begin{align}\n",
    "%\n",
    "\\mbox{data: } & \\nonumber \\\\\n",
    "& e^u \\mbox{ - energy rating} \\\\\n",
    "& sc^u \\mbox{ - charge rating} \\\\\n",
    "& sd^u \\mbox{ - discharge rating} \\\\\n",
    "& \\eta^c \\mbox{ - charge efficiency} \\\\\n",
    "& \\eta^d \\mbox{ - discharge efficiency} \\\\\n",
    "& te \\mbox{ - time elapsed} \\\\\n",
    "& sl \\mbox{ - standing losses} \\\\\n",
    "& r \\mbox{ - injection resistance} \\\\\n",
    "& q^l, q^u  \\mbox{ - reactive power injection limits} \\\\\n",
    "& s^u \\mbox{ - thermal injection limit} \\\\\n",
    "& i^u \\mbox{ - current injection limit} \\\\\n",
    "%\n",
    "\\mbox{variables: } & \\nonumber \\\\\n",
    "& e_i \\in (0, e^u) \\mbox{ - storage energy at time $i$} \\\\\n",
    "& sc_i \\in (0, sc^u) \\mbox{ - charge amount at time $i$} \\\\\n",
    "& sd_i \\in (0, sd^u) \\mbox{ - discharge amount at time $i$} \\\\\n",
    "& S_i \\mbox{ - complex bus power injection at time $i$} \\\\\n",
    "& I_i \\mbox{ - complex bus current injection at time $i$} \\\\\n",
    "%\n",
    "\\mbox{subject to: } & \\nonumber \\\\\n",
    "& e_t - e_s = te \\left(\\eta^c sc_t - \\frac{sd_t}{\\eta^d} \\right) \\label{eq_strg_energy} \\\\\n",
    "& sc_t \\cdot sd_t = 0 \\label{eq_strg_compl} \\\\\n",
    "& \\Re(S_t) + (sd_t - sc_t) = sl + r |I_t| \\label{eq_strg_loss} \\\\\n",
    "& q^l \\leq \\Im(S_t) \\leq q^u \\label{eq_strg_q_limit} \\\\\n",
    "& |S_t| \\leq s^u \\label{eq_strg_thermal_limit} \\\\\n",
    "& |I_t| \\leq i^u \\label{eq_strg_current_limit}\n",
    "\\end{align}"
   ]
  }
 ],
 "metadata": {
  "kernelspec": {
   "display_name": "Julia 1.0.3",
   "language": "julia",
   "name": "julia-1.0"
  },
  "language_info": {
   "file_extension": ".jl",
   "mimetype": "application/julia",
   "name": "julia",
   "version": "1.0.3"
  }
 },
 "nbformat": 4,
 "nbformat_minor": 2
}
