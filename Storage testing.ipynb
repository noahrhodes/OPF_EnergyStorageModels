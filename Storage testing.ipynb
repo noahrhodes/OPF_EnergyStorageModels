{
 "cells": [
  {
   "cell_type": "code",
   "execution_count": 62,
   "metadata": {
    "scrolled": true
   },
   "outputs": [
    {
     "name": "stdout",
     "output_type": "stream",
     "text": [
      "case5_strg_1.m\n",
      "case5_strg_2.m\n",
      "\u001b[32m[info | PowerModels]: extending matpower format with constant data: time_elapsed\u001b[39m\n",
      "\u001b[35m[warn | PowerModels]: the voltage setpoint on generator 4 does not match the value at bus 4\u001b[39m\n",
      "\u001b[35m[warn | PowerModels]: the voltage setpoint on generator 1 does not match the value at bus 1\u001b[39m\n",
      "\u001b[35m[warn | PowerModels]: the voltage setpoint on generator 5 does not match the value at bus 10\u001b[39m\n",
      "\u001b[35m[warn | PowerModels]: the voltage setpoint on generator 2 does not match the value at bus 1\u001b[39m\n",
      "\u001b[35m[warn | PowerModels]: the voltage setpoint on generator 3 does not match the value at bus 3\u001b[39m\n",
      "\u001b[32m[info | PowerModels]: extending matpower format with constant data: time_elapsed\u001b[39m\n",
      "\u001b[35m[warn | PowerModels]: the voltage setpoint on generator 4 does not match the value at bus 4\u001b[39m\n",
      "\u001b[35m[warn | PowerModels]: the voltage setpoint on generator 1 does not match the value at bus 1\u001b[39m\n",
      "\u001b[35m[warn | PowerModels]: the voltage setpoint on generator 5 does not match the value at bus 10\u001b[39m\n",
      "\u001b[35m[warn | PowerModels]: the voltage setpoint on generator 2 does not match the value at bus 1\u001b[39m\n",
      "\u001b[35m[warn | PowerModels]: the voltage setpoint on generator 3 does not match the value at bus 3\u001b[39m\n"
     ]
    },
    {
     "ename": "KeyError",
     "evalue": "KeyError: key 4 not found",
     "output_type": "error",
     "traceback": [
      "KeyError: key 4 not found",
      "",
      "Stacktrace:",
      " [1] getindex(::Dict{Int64,Any}, ::Int64) at .\\dict.jl:478",
      " [2] top-level scope at C:\\Users\\noahx23\\.julia\\packages\\JuMP\\PbnIJ\\src\\parseExpr_staged.jl:508",
      " [3] top-level scope at C:\\Users\\noahx23\\.julia\\packages\\JuMP\\PbnIJ\\src\\macros.jl:530",
      " [4] top-level scope at In[62]:112"
     ]
    }
   ],
   "source": [
    "#--------------------\n",
    "using PowerModels\n",
    "using Ipopt\n",
    "using JuMP\n",
    "\n",
    "path = \"./ModelData/\"\n",
    "key = \"case5_strg_\"\n",
    "file_ext = \".m\"\n",
    "\n",
    "\n",
    "# Instancate a Solver\n",
    "#--------------------\n",
    "\n",
    "nlp_solver = IpoptSolver(print_level=0)\n",
    "# note: print_level changes the amount of solver information printed to the terminal\n",
    "\n",
    "\n",
    "# Load System Data\n",
    "# ----------------\n",
    "\n",
    "\n",
    "periods = 0\n",
    "for (root, dirs, files) in walkdir(path)\n",
    "    for file in files\n",
    "        if occursin(key, file)\n",
    "            println(file)\n",
    "            global periods=periods+1\n",
    "        end\n",
    "    end\n",
    "end\n",
    "\n",
    "#mp_data=[]\n",
    "\n",
    "for i=1:periods\n",
    "    if i == 1\n",
    "        data_1 = PowerModels.parse_file(string(path,key,i,file_ext))\n",
    "\n",
    "        global mp_data = Dict{String,Any}(\n",
    "            \"name\" => \"$(data_1[\"name\"])\",\n",
    "            \"multinetwork\" => true,\n",
    "            \"per_unit\" => data_1[\"per_unit\"],\n",
    "            \"baseMVA\" => data_1[\"baseMVA\"],\n",
    "            \"nw\" => Dict{String,Any}()\n",
    "        )\n",
    "\n",
    "        delete!(data_1, \"multinetwork\")\n",
    "        delete!(data_1, \"per_unit\")\n",
    "        delete!(data_1, \"baseMVA\")\n",
    "        global mp_data[\"nw\"][\"$(i)\"] = data_1\n",
    "\n",
    "    else\n",
    "        data_2 = PowerModels.parse_file(string(path,key,i,file_ext))\n",
    "        delete!(data_2, \"multinetwork\")\n",
    "        delete!(data_2, \"per_unit\")\n",
    "        delete!(data_2, \"baseMVA\")\n",
    "        global mp_data[\"nw\"][\"$(i)\"] = data_2\n",
    "    end\n",
    "end\n",
    "\n",
    "# Add zeros to turn linear objective functions into quadratic ones\n",
    "# so that additional parameter checks are not required\n",
    "PowerModels.standardize_cost_terms(mp_data, order=2)\n",
    "\n",
    "# use build_ref to filter out inactive components\n",
    "#ref = PowerModels.build_ref(data)[:nw][0]\n",
    "ref = PowerModels.build_ref(mp_data)\n",
    "# note: ref contains all the relevant system parameters needed to build the OPF model\n",
    "# When we introduce constraints and variable bounds below, we use the parameters in ref.\n",
    "\n",
    "\n",
    "###############################################################################\n",
    "# 1. Building the Optimal Power Flow Model\n",
    "###############################################################################\n",
    "\n",
    "# Initialize a JuMP Optimization Model\n",
    "#-------------------------------------\n",
    "model = Model(solver = nlp_solver)\n",
    "\n",
    "\n",
    "# Add Optimization and State Variables\n",
    "# ------------------------------------\n",
    "\n",
    "# Add power generation variables for each generator, including bounds\n",
    "@variable(model, ref[:nw][t][:gen][i][\"pmin\"] <= pg[t in keys(ref[:nw]), i in keys(ref[:nw][t][:gen])] <= ref[:nw][t][:gen][i][\"pmax\"])\n",
    "# Add power flow variables for branches\n",
    "@variable(model, -ref[:nw][t][:branch][l][\"rate_a\"] <= p[t in keys(ref[:nw]), (l,i,j) in ref[:nw][t][:arcs]] <= ref[:nw][t][:branch][l][\"rate_a\"])\n",
    "# Add storage power variables\n",
    "@variable(model, ref[:nw][t][:storage][i][\"discharge_rating\"] <= ps[t in keys(ref[:nw]), i in keys(ref[:nw][t][:storage])] <= ref[:nw][t][:storage][i][\"discharge_rating\"] )\n",
    "@variable(model, 0 <= es[t in keys(ref[:nw]), i in keys(ref[:nw][t][:storage])] <= ref[:nw][t][:storage][i][\"energy_rating\"] )\n",
    "\n",
    "\n",
    "# Add Objective Function\n",
    "# ----------------------\n",
    "\n",
    "# Minimize cost power generation\n",
    "# assumes costs are given as quadratic functions\n",
    "@objective(model, Min,\n",
    "    sum(gen[\"cost\"][1]*pg[t,i]^2 + gen[\"cost\"][2]*pg[t,i] + gen[\"cost\"][3] for t in keys(ref[:nw]), (i,gen) in ref[:nw][t][:gen])\n",
    ")\n",
    "\n",
    "# Add Constraints\n",
    "# ---------------\n",
    "\n",
    "# Nodal power balance constraints\n",
    "for t in keys(ref[:nw]), (i,bus) in ref[:nw][t][:bus]\n",
    "    # Build a list of the loads and shunt elements connected to the bus i\n",
    "    bus_loads = [ref[:nw][t][:load][l] for l in ref[:nw][t][:bus_loads][i]]\n",
    "    bus_shunts = [ref[:nw][t][:shunt][s] for s in ref[:nw][t][:bus_shunts][i]]\n",
    "    \n",
    "\n",
    "    # Power balance\n",
    "    @constraint(model,\n",
    "        sum(p[t,a] for a in ref[:nw][t][:bus_arcs][i]) == # sum of power flow on lines from bus i\n",
    "        sum(pg[t,g] for g in ref[:nw][t][:bus_gens][i]) - # sum of power generation at bus i\n",
    "        sum(load[\"pd\"] for load in bus_loads) - # sum of active load consumption at bus i\n",
    "        sum(ps[t,e] for e in ref[:nw][t][:storage][i])\n",
    "    )\n",
    "end\n",
    "\n",
    "# Branch flow limits\n",
    "for t in keys(ref[:nw]), (i, branch) in ref[:nw][t][:branch]\n",
    "    # build the from variable id of the i-th branch\n",
    "    f_idx = (i, branch[\"f_bus\"], branch[\"t_bus\"])\n",
    "    # build the to variable id of the i-th branch\n",
    "    t_idx = (i, branch[\"t_bus\"], branch[\"f_bus\"])\n",
    "     # note: it is necessary to distinguish between the from and to sides of a branch due to power losses\n",
    "\n",
    "     p_fr = p[t,f_idx]\n",
    "     p_to = p[t,t_idx]\n",
    "     # note: p_fr, p_to are references to the optimization variable p[index]\n",
    "\n",
    "     @constraint( model, p_fr + p_to == 0)\n",
    "\n",
    "end\n",
    "\n",
    "# Storage constaints\n",
    "\n",
    "# Energy storage quantities\n",
    "#for t in keys(ref[:nw]), i in (keys(ref[:nw][t][:storage]))\n",
    "#    if i+1 <= length(keys(ref[:nw][t][:storage]))\n",
    "#       @constraint(model, es[t,i+1] == es[t,i]+ ps[t,i]*ref[:nw][t][:time_elapsed]  )\n",
    "#    end\n",
    "#end\n",
    "\n",
    "#@constraint(model, )\n",
    "\n",
    "###############################################################################\n",
    "# 3. Solve the Optimal Power Flow Model and Review the Results\n",
    "###############################################################################\n",
    "\n",
    "# Solve the optimization problem\n",
    "status = solve(model)\n",
    "println(status)\n",
    "\n",
    "# Check the value of the objective function\n",
    "cost = getobjectivevalue(model)\n",
    "println(\"The cost of generation is $(cost).\")\n",
    "\n",
    "# Check the value of an optimization variable\n",
    "# Example: Active power generated at generator 1\n",
    "\n",
    "println(\"The active power generated at  each generator is:\")\n",
    "for t in keys(ref[:nw]), i in keys(ref[:nw][t][:gen])\n",
    "     #println(\"In timestep $(t), generator $(i) produces $(getvalue(pg[t,i])*ref[:nw][t][:baseMVA]) p.u. (not MW_.\")\n",
    "     println(\"In timestep $(t), generator $(i) produces $(getvalue(pg[t,i])*mp_data[\"baseMVA\"]) MW\")\n",
    "end\n",
    "\n",
    "# note: the optimization model is in per unit, so the baseMVA value is used to restore the physical units\n"
   ]
  },
  {
   "cell_type": "code",
   "execution_count": 57,
   "metadata": {},
   "outputs": [
    {
     "data": {
      "text/plain": [
       "Base.KeySet for a Dict{Int64,Any} with 2 entries. Keys:\n",
       "  2\n",
       "  1"
      ]
     },
     "execution_count": 57,
     "metadata": {},
     "output_type": "execute_result"
    }
   ],
   "source": [
    "# Energy storage quantities\n",
    "#or t in keys(ref[:nw]), i in (keys(ref[:nw][t][:storage]))\n",
    "#   if i+1 <= length(keys(ref[:nw][t][:storage]))\n",
    "#       @constraint(model, es[t,i+1] == es[t,i]+ ps[t,i]*ref[:nw][t][:time_elapsed]  )\n",
    "#   end\n",
    "#end\n",
    "\n",
    "#model\n",
    "\n",
    "keys(ref[:nw][2][:storage])"
   ]
  },
  {
   "cell_type": "code",
   "execution_count": 74,
   "metadata": {},
   "outputs": [
    {
     "ename": "MethodError",
     "evalue": "MethodError: no method matching getindex(::Base.KeySet{Int64,Dict{Int64,Any}}, ::Int64)",
     "output_type": "error",
     "traceback": [
      "MethodError: no method matching getindex(::Base.KeySet{Int64,Dict{Int64,Any}}, ::Int64)",
      "",
      "Stacktrace:",
      " [1] top-level scope at In[74]:3"
     ]
    }
   ],
   "source": []
  },
  {
   "cell_type": "code",
   "execution_count": 76,
   "metadata": {},
   "outputs": [
    {
     "data": {
      "text/plain": [
       "Base.KeySet for a Dict{Int64,Any} with 2 entries. Keys:\n",
       "  2\n",
       "  1"
      ]
     },
     "execution_count": 76,
     "metadata": {},
     "output_type": "execute_result"
    }
   ],
   "source": [
    "t = keys(ref[:nw])\n",
    "\n"
   ]
  },
  {
   "cell_type": "code",
   "execution_count": 80,
   "metadata": {},
   "outputs": [
    {
     "data": {
      "text/plain": [
       "Dict{Int64,Any} with 5 entries:\n",
       "  4  => Dict{String,Any}(\"zone\"=>1,\"bus_i\"=>4,\"bus_type\"=>3,\"vmax\"=>1.1,\"area\"=…\n",
       "  10 => Dict{String,Any}(\"zone\"=>1,\"bus_i\"=>10,\"bus_type\"=>2,\"vmax\"=>1.1,\"area\"…\n",
       "  2  => Dict{String,Any}(\"zone\"=>1,\"bus_i\"=>2,\"bus_type\"=>1,\"vmax\"=>1.1,\"area\"=…\n",
       "  3  => Dict{String,Any}(\"zone\"=>1,\"bus_i\"=>3,\"bus_type\"=>2,\"vmax\"=>1.1,\"area\"=…\n",
       "  1  => Dict{String,Any}(\"zone\"=>1,\"bus_i\"=>1,\"bus_type\"=>2,\"vmax\"=>1.1,\"area\"=…"
      ]
     },
     "execution_count": 80,
     "metadata": {},
     "output_type": "execute_result"
    }
   ],
   "source": [
    "(i,bus) = ref[:nw][1][:bus]"
   ]
  },
  {
   "cell_type": "code",
   "execution_count": 128,
   "metadata": {},
   "outputs": [
    {
     "ename": "KeyError",
     "evalue": "KeyError: key (2, Pair{String,Any}(\"energy_rating\", 1.0)) not found",
     "output_type": "error",
     "traceback": [
      "KeyError: key (2, Pair{String,Any}(\"energy_rating\", 1.0)) not found",
      "",
      "Stacktrace:",
      " [1] getindex at .\\dict.jl:478 [inlined]",
      " [2] getindex(::JuMP.JuMPDict{Variable,2}, ::Int64, ::Pair{String,Any}) at C:\\Users\\noahx23\\.julia\\packages\\JuMP\\PbnIJ\\src\\JuMPContainer.jl:51",
      " [3] top-level scope at C:\\Users\\noahx23\\.julia\\packages\\JuMP\\PbnIJ\\src\\parseExpr_staged.jl:508",
      " [4] top-level scope at C:\\Users\\noahx23\\.julia\\packages\\JuMP\\PbnIJ\\src\\macros.jl:530",
      " [5] top-level scope at In[128]:9"
     ]
    }
   ],
   "source": [
    "for t in keys(ref[:nw]), (i,bus) in ref[:nw][t][:bus], (j,store) in ref[:nw][t][:storage]\n",
    "    \n",
    "    # Build a list of the loads and shunt elements connected to the bus i\n",
    "    bus_loads = [ref[:nw][t][:load][l] for l in ref[:nw][t][:bus_loads][i]]\n",
    "    bus_shunts = [ref[:nw][t][:shunt][s] for s in ref[:nw][t][:bus_shunts][i]]\n",
    "    bus_storage = [ref[:nw][t][:storage][m] for m in ref[:nw][t][:storage][j]]\n",
    "    \n",
    "    # Power balance\n",
    "    @constraint(model,\n",
    "        sum(p[t,a] for a in ref[:nw][t][:bus_arcs][i]) == # sum of power flow on lines from bus i\n",
    "        sum(pg[t,g] for g in ref[:nw][t][:bus_gens][i]) - # sum of power generation at bus i\n",
    "        sum(load[\"pd\"] for load in bus_loads) - # sum of active load consumption at bus i\n",
    "        sum(ps[t,e] for e in ref[:nw][t][:storage][j])\n",
    "    )\n",
    "end"
   ]
  },
  {
   "cell_type": "code",
   "execution_count": 127,
   "metadata": {},
   "outputs": [
    {
     "name": "stdout",
     "output_type": "stream",
     "text": [
      "true4\n",
      "true10\n",
      "true2\n",
      "true3\n",
      "true1\n",
      "true4\n",
      "true10\n",
      "true2\n",
      "true3\n",
      "true1\n"
     ]
    }
   ],
   "source": [
    "for t in keys(ref[:nw]), (i,bus) in ref[:nw][t][:bus], (j,store) in ref[:nw][t][:storage]\n",
    "    \n",
    "    # Build a list of the loads and shunt elements connected to the bus i\n",
    "    bus_loads = [ref[:nw][t][:load][l] for l in ref[:nw][t][:bus_loads][i]]\n",
    "    bus_shunts = [ref[:nw][t][:shunt][s] for s in ref[:nw][t][:bus_shunts][i]]\n",
    "    \n",
    "    if  ref[:nw][t][:bus][i][\"bus_i\"] == 7 # == ref[:nw][t][:storage][j][\"storage_bus\"]\n",
    "       println(\"true\", ref[:nw][t][:bus][i][\"bus_i\"])\n",
    "    end\n",
    "    if  10 == ref[:nw][t][:storage][j][\"storage_bus\"]\n",
    "       println(\"true\", ref[:nw][t][:bus][i][\"bus_i\"])\n",
    "    end\n",
    "\n",
    "        \n",
    "end"
   ]
  },
  {
   "cell_type": "code",
   "execution_count": 126,
   "metadata": {},
   "outputs": [
    {
     "data": {
      "text/plain": [
       "Dict{Int64,Any} with 2 entries:\n",
       "  2 => Dict{String,Any}(\"energy_rating\"=>1.0,\"standby_loss\"=>0.0,\"x\"=>0.0,\"ener…\n",
       "  1 => Dict{String,Any}(\"energy_rating\"=>1.0,\"standby_loss\"=>0.0,\"x\"=>0.0,\"ener…"
      ]
     },
     "execution_count": 126,
     "metadata": {},
     "output_type": "execute_result"
    }
   ],
   "source": [
    "ref[:nw][1][:storage]"
   ]
  },
  {
   "cell_type": "code",
   "execution_count": 130,
   "metadata": {},
   "outputs": [
    {
     "ename": "KeyError",
     "evalue": "KeyError: key Pair{String,Any}(\"energy_rating\", 1.0) not found",
     "output_type": "error",
     "traceback": [
      "KeyError: key Pair{String,Any}(\"energy_rating\", 1.0) not found",
      "",
      "Stacktrace:",
      " [1] getindex(::Dict{Int64,Any}, ::Pair{String,Any}) at .\\dict.jl:478",
      " [2] (::getfield(Main, Symbol(\"##113#114\")))(::Pair{String,Any}) at .\\none:0",
      " [3] iterate at .\\generator.jl:47 [inlined]",
      " [4] collect(::Base.Generator{Dict{String,Any},getfield(Main, Symbol(\"##113#114\"))}) at .\\array.jl:619",
      " [5] top-level scope at In[130]:1"
     ]
    }
   ],
   "source": [
    "bus_storage = [ref[:nw][1][:storage][m] for m in ref[:nw][1][:storage][1]]"
   ]
  }
 ],
 "metadata": {
  "kernelspec": {
   "display_name": "Julia 1.0.3",
   "language": "julia",
   "name": "julia-1.0"
  },
  "language_info": {
   "file_extension": ".jl",
   "mimetype": "application/julia",
   "name": "julia",
   "version": "1.0.3"
  }
 },
 "nbformat": 4,
 "nbformat_minor": 2
}
